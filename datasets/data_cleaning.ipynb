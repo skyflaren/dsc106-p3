{
 "cells": [
  {
   "cell_type": "code",
   "execution_count": 53,
   "id": "a30e7e90",
   "metadata": {},
   "outputs": [],
   "source": [
    "import pandas as pd\n",
    "import numpy as np"
   ]
  },
  {
   "cell_type": "code",
   "execution_count": 54,
   "id": "7579da28",
   "metadata": {},
   "outputs": [],
   "source": [
    "def clean_df(df, name):\n",
    "    years = range(2002, 2023)\n",
    "    df = df.set_index('Country/Territory')\n",
    "    only_estimate = df.loc[:, df.columns.str.contains('Estimate')].iloc[:, 3:]\n",
    "    only_estimate.columns = years\n",
    "    df_transposed = only_estimate.T\n",
    "    df_transposed = df_transposed.reset_index()\n",
    "    df_transposed.rename(columns={'index': 'Year'}, inplace=True)\n",
    "    df_melted = df_transposed.melt(id_vars=['Year'], var_name='Country', value_name='Estimate')\n",
    "    df_melted = df_melted.rename(columns={'Estimate': name})\n",
    "    return df_melted"
   ]
  },
  {
   "cell_type": "code",
   "execution_count": 56,
   "id": "c752b97b",
   "metadata": {},
   "outputs": [],
   "source": [
    "corruption = pd.read_csv('ControlofCorruption.csv', skiprows=1)\n",
    "corruption_cleaned = clean_df(corruption, \"COC\")"
   ]
  },
  {
   "cell_type": "code",
   "execution_count": 57,
   "id": "4203a500",
   "metadata": {},
   "outputs": [],
   "source": [
    "voice_accountability = pd.read_csv('VoiceAndAccountability.csv', skiprows=1)\n",
    "voice_accountability_cleaned = clean_df(voice_accountability, \"VAA\")"
   ]
  },
  {
   "cell_type": "code",
   "execution_count": 58,
   "id": "647c82a0",
   "metadata": {},
   "outputs": [],
   "source": [
    "political_instability = pd.read_csv('PoliticalStabilityNoViolence.csv', skiprows=1)\n",
    "political_instability_cleaned = clean_df(political_instability, \"PI\")"
   ]
  },
  {
   "cell_type": "code",
   "execution_count": 59,
   "id": "a2121f05",
   "metadata": {},
   "outputs": [],
   "source": [
    "government_effectiveness = pd.read_csv('GovernmentEffectiveness.csv', skiprows=1)\n",
    "government_effectiveness_cleaned = clean_df(government_effectiveness, \"GE\")"
   ]
  },
  {
   "cell_type": "code",
   "execution_count": 60,
   "id": "bf087a63",
   "metadata": {},
   "outputs": [],
   "source": [
    "regulatory_quality = pd.read_csv('RegulatoryQuality.csv', skiprows=1)\n",
    "regulatory_quality_cleaned = clean_df(regulatory_quality, \"RQ\")"
   ]
  },
  {
   "cell_type": "code",
   "execution_count": 61,
   "id": "68ff141d",
   "metadata": {},
   "outputs": [],
   "source": [
    "rol = pd.read_csv(\"RuleofLaw.csv\", skiprows=1)\n",
    "rol_cleaned = clean_df(rol, \"ROL\")"
   ]
  },
  {
   "cell_type": "code",
   "execution_count": 62,
   "id": "a4c57f56",
   "metadata": {},
   "outputs": [],
   "source": [
    "merge1 = corruption_cleaned.merge(voice_accountability_cleaned, on=[\"Country\", \"Year\"])"
   ]
  },
  {
   "cell_type": "code",
   "execution_count": 63,
   "id": "010233c8",
   "metadata": {},
   "outputs": [],
   "source": [
    "merge2 = merge1.merge(political_instability_cleaned, on=[\"Country\", \"Year\"])"
   ]
  },
  {
   "cell_type": "code",
   "execution_count": 64,
   "id": "bf58c3eb",
   "metadata": {},
   "outputs": [],
   "source": [
    "merge3 = merge2.merge(government_effectiveness_cleaned, on=[\"Country\", \"Year\"])"
   ]
  },
  {
   "cell_type": "code",
   "execution_count": 65,
   "id": "004f55ed",
   "metadata": {},
   "outputs": [],
   "source": [
    "merge4 = merge3.merge(regulatory_quality_cleaned, on=[\"Country\", \"Year\"])"
   ]
  },
  {
   "cell_type": "code",
   "execution_count": 66,
   "id": "ac7db8a1",
   "metadata": {},
   "outputs": [],
   "source": [
    "merge5 = merge4.merge(rol_cleaned, on=[\"Country\", \"Year\"])"
   ]
  },
  {
   "cell_type": "code",
   "execution_count": 67,
   "id": "8b31e513",
   "metadata": {},
   "outputs": [
    {
     "data": {
      "text/html": [
       "<div>\n",
       "<style scoped>\n",
       "    .dataframe tbody tr th:only-of-type {\n",
       "        vertical-align: middle;\n",
       "    }\n",
       "\n",
       "    .dataframe tbody tr th {\n",
       "        vertical-align: top;\n",
       "    }\n",
       "\n",
       "    .dataframe thead th {\n",
       "        text-align: right;\n",
       "    }\n",
       "</style>\n",
       "<table border=\"1\" class=\"dataframe\">\n",
       "  <thead>\n",
       "    <tr style=\"text-align: right;\">\n",
       "      <th></th>\n",
       "      <th>Year</th>\n",
       "      <th>Country</th>\n",
       "      <th>COC</th>\n",
       "      <th>VAA</th>\n",
       "      <th>PI</th>\n",
       "      <th>GE</th>\n",
       "      <th>RQ</th>\n",
       "      <th>ROL</th>\n",
       "    </tr>\n",
       "  </thead>\n",
       "  <tbody>\n",
       "    <tr>\n",
       "      <th>0</th>\n",
       "      <td>2002</td>\n",
       "      <td>Aruba</td>\n",
       "      <td>NaN</td>\n",
       "      <td>NaN</td>\n",
       "      <td>NaN</td>\n",
       "      <td>NaN</td>\n",
       "      <td>NaN</td>\n",
       "      <td>NaN</td>\n",
       "    </tr>\n",
       "    <tr>\n",
       "      <th>1</th>\n",
       "      <td>2003</td>\n",
       "      <td>Aruba</td>\n",
       "      <td>NaN</td>\n",
       "      <td>NaN</td>\n",
       "      <td>NaN</td>\n",
       "      <td>NaN</td>\n",
       "      <td>NaN</td>\n",
       "      <td>NaN</td>\n",
       "    </tr>\n",
       "    <tr>\n",
       "      <th>2</th>\n",
       "      <td>2004</td>\n",
       "      <td>Aruba</td>\n",
       "      <td>1.17</td>\n",
       "      <td>0.74</td>\n",
       "      <td>0.99</td>\n",
       "      <td>1.28</td>\n",
       "      <td>0.76</td>\n",
       "      <td>0.92</td>\n",
       "    </tr>\n",
       "    <tr>\n",
       "      <th>3</th>\n",
       "      <td>2005</td>\n",
       "      <td>Aruba</td>\n",
       "      <td>1.27</td>\n",
       "      <td>1.15</td>\n",
       "      <td>1.38</td>\n",
       "      <td>1.29</td>\n",
       "      <td>0.86</td>\n",
       "      <td>0.85</td>\n",
       "    </tr>\n",
       "    <tr>\n",
       "      <th>4</th>\n",
       "      <td>2006</td>\n",
       "      <td>Aruba</td>\n",
       "      <td>1.25</td>\n",
       "      <td>1.02</td>\n",
       "      <td>1.30</td>\n",
       "      <td>1.28</td>\n",
       "      <td>0.86</td>\n",
       "      <td>0.81</td>\n",
       "    </tr>\n",
       "    <tr>\n",
       "      <th>...</th>\n",
       "      <td>...</td>\n",
       "      <td>...</td>\n",
       "      <td>...</td>\n",
       "      <td>...</td>\n",
       "      <td>...</td>\n",
       "      <td>...</td>\n",
       "      <td>...</td>\n",
       "      <td>...</td>\n",
       "    </tr>\n",
       "    <tr>\n",
       "      <th>4489</th>\n",
       "      <td>2018</td>\n",
       "      <td>Zimbabwe</td>\n",
       "      <td>-1.25</td>\n",
       "      <td>-1.14</td>\n",
       "      <td>-0.72</td>\n",
       "      <td>-1.30</td>\n",
       "      <td>-1.53</td>\n",
       "      <td>-1.29</td>\n",
       "    </tr>\n",
       "    <tr>\n",
       "      <th>4490</th>\n",
       "      <td>2019</td>\n",
       "      <td>Zimbabwe</td>\n",
       "      <td>-1.27</td>\n",
       "      <td>-1.16</td>\n",
       "      <td>-0.94</td>\n",
       "      <td>-1.32</td>\n",
       "      <td>-1.49</td>\n",
       "      <td>-1.30</td>\n",
       "    </tr>\n",
       "    <tr>\n",
       "      <th>4491</th>\n",
       "      <td>2020</td>\n",
       "      <td>Zimbabwe</td>\n",
       "      <td>-1.29</td>\n",
       "      <td>-1.11</td>\n",
       "      <td>-1.05</td>\n",
       "      <td>-1.36</td>\n",
       "      <td>-1.43</td>\n",
       "      <td>-1.33</td>\n",
       "    </tr>\n",
       "    <tr>\n",
       "      <th>4492</th>\n",
       "      <td>2021</td>\n",
       "      <td>Zimbabwe</td>\n",
       "      <td>-1.25</td>\n",
       "      <td>-1.14</td>\n",
       "      <td>-0.95</td>\n",
       "      <td>-1.30</td>\n",
       "      <td>-1.39</td>\n",
       "      <td>-1.28</td>\n",
       "    </tr>\n",
       "    <tr>\n",
       "      <th>4493</th>\n",
       "      <td>2022</td>\n",
       "      <td>Zimbabwe</td>\n",
       "      <td>-1.26</td>\n",
       "      <td>-1.10</td>\n",
       "      <td>-0.88</td>\n",
       "      <td>-1.25</td>\n",
       "      <td>-1.43</td>\n",
       "      <td>-1.24</td>\n",
       "    </tr>\n",
       "  </tbody>\n",
       "</table>\n",
       "<p>4494 rows × 8 columns</p>\n",
       "</div>"
      ],
      "text/plain": [
       "      Year   Country   COC   VAA    PI    GE    RQ   ROL\n",
       "0     2002     Aruba   NaN   NaN   NaN   NaN   NaN   NaN\n",
       "1     2003     Aruba   NaN   NaN   NaN   NaN   NaN   NaN\n",
       "2     2004     Aruba  1.17  0.74  0.99  1.28  0.76  0.92\n",
       "3     2005     Aruba  1.27  1.15  1.38  1.29  0.86  0.85\n",
       "4     2006     Aruba  1.25  1.02  1.30  1.28  0.86  0.81\n",
       "...    ...       ...   ...   ...   ...   ...   ...   ...\n",
       "4489  2018  Zimbabwe -1.25 -1.14 -0.72 -1.30 -1.53 -1.29\n",
       "4490  2019  Zimbabwe -1.27 -1.16 -0.94 -1.32 -1.49 -1.30\n",
       "4491  2020  Zimbabwe -1.29 -1.11 -1.05 -1.36 -1.43 -1.33\n",
       "4492  2021  Zimbabwe -1.25 -1.14 -0.95 -1.30 -1.39 -1.28\n",
       "4493  2022  Zimbabwe -1.26 -1.10 -0.88 -1.25 -1.43 -1.24\n",
       "\n",
       "[4494 rows x 8 columns]"
      ]
     },
     "execution_count": 67,
     "metadata": {},
     "output_type": "execute_result"
    }
   ],
   "source": [
    "merge5"
   ]
  },
  {
   "cell_type": "code",
   "execution_count": 68,
   "id": "2b4ecd2b",
   "metadata": {},
   "outputs": [],
   "source": [
    "# merge5.to_csv('world_gov_indicators.csv')"
   ]
  }
 ],
 "metadata": {
  "kernelspec": {
   "display_name": "Python 3 (ipykernel)",
   "language": "python",
   "name": "python3"
  },
  "language_info": {
   "codemirror_mode": {
    "name": "ipython",
    "version": 3
   },
   "file_extension": ".py",
   "mimetype": "text/x-python",
   "name": "python",
   "nbconvert_exporter": "python",
   "pygments_lexer": "ipython3",
   "version": "3.9.13"
  }
 },
 "nbformat": 4,
 "nbformat_minor": 5
}
