{
 "cells": [
  {
   "cell_type": "code",
   "execution_count": 50,
   "id": "a30e7e90",
   "metadata": {},
   "outputs": [],
   "source": [
    "import pandas as pd\n",
    "import numpy as np"
   ]
  },
  {
   "cell_type": "code",
   "execution_count": 53,
   "id": "7579da28",
   "metadata": {},
   "outputs": [],
   "source": [
    "def clean_df(df, name):\n",
    "    years = range(2002, 2023)\n",
    "    df = df.set_index('Country/Territory')\n",
    "    only_estimate = df.loc[:, df.columns.str.contains('Estimate')].iloc[:, 3:]\n",
    "    only_estimate.columns = years\n",
    "    df_transposed = only_estimate.T\n",
    "    df_transposed = df_transposed.reset_index()\n",
    "    df_transposed.rename(columns={'index': 'Year'}, inplace=True)\n",
    "    df_melted = df_transposed.melt(id_vars=['Year'], var_name='Country/Territory', value_name='Estimate')\n",
    "    df_melted = df_melted.rename(columns={'Estimate': name})\n",
    "    return df_melted"
   ]
  },
  {
   "cell_type": "code",
   "execution_count": 55,
   "id": "c752b97b",
   "metadata": {},
   "outputs": [],
   "source": [
    "corruption = pd.read_csv('ControlofCorruption.csv', skiprows=1)\n",
    "corruption_cleaned = clean_df(corruption, \"Control of Corruption\")"
   ]
  },
  {
   "cell_type": "code",
   "execution_count": 56,
   "id": "4203a500",
   "metadata": {},
   "outputs": [],
   "source": [
    "voice_accountability = pd.read_csv('VoiceAndAccountability.csv', skiprows=1)\n",
    "voice_accountability_cleaned = clean_df(voice_accountability, \"Voice And Accountability\")"
   ]
  },
  {
   "cell_type": "code",
   "execution_count": 59,
   "id": "647c82a0",
   "metadata": {},
   "outputs": [],
   "source": [
    "political_instability = pd.read_csv('PoliticalStabilityNoViolence.csv', skiprows=1)\n",
    "political_instability_cleaned = clean_df(political_instability, \"Political Instability\")"
   ]
  },
  {
   "cell_type": "code",
   "execution_count": 60,
   "id": "a2121f05",
   "metadata": {},
   "outputs": [],
   "source": [
    "government_effectiveness = pd.read_csv('GovernmentEffectiveness.csv', skiprows=1)\n",
    "government_effectiveness_cleaned = clean_df(government_effectiveness, \"Government Effectiveness\")"
   ]
  },
  {
   "cell_type": "code",
   "execution_count": 61,
   "id": "bf087a63",
   "metadata": {},
   "outputs": [],
   "source": [
    "regulatory_quality = pd.read_csv('RegulatoryQuality.csv', skiprows=1)\n",
    "regulatory_quality_cleaned = clean_df(regulatory_quality, \"Regulatory Quality\")"
   ]
  },
  {
   "cell_type": "code",
   "execution_count": 63,
   "id": "68ff141d",
   "metadata": {},
   "outputs": [],
   "source": [
    "rol = pd.read_csv(\"RuleofLaw.csv\", skiprows=1)\n",
    "rol_cleaned = clean_df(rol, \"Rule of Law\")"
   ]
  },
  {
   "cell_type": "code",
   "execution_count": 68,
   "id": "a4c57f56",
   "metadata": {},
   "outputs": [],
   "source": [
    "merge1 = corruption_cleaned.merge(voice_accountability_cleaned, on=[\"Country/Territory\", \"Year\"])"
   ]
  },
  {
   "cell_type": "code",
   "execution_count": 70,
   "id": "010233c8",
   "metadata": {},
   "outputs": [],
   "source": [
    "merge2 = merge1.merge(political_instability_cleaned, on=[\"Country/Territory\", \"Year\"])"
   ]
  },
  {
   "cell_type": "code",
   "execution_count": 72,
   "id": "bf58c3eb",
   "metadata": {},
   "outputs": [],
   "source": [
    "merge3 = merge2.merge(government_effectiveness_cleaned, on=[\"Country/Territory\", \"Year\"])"
   ]
  },
  {
   "cell_type": "code",
   "execution_count": 73,
   "id": "004f55ed",
   "metadata": {},
   "outputs": [],
   "source": [
    "merge4 = merge3.merge(regulatory_quality_cleaned, on=[\"Country/Territory\", \"Year\"])"
   ]
  },
  {
   "cell_type": "code",
   "execution_count": 74,
   "id": "ac7db8a1",
   "metadata": {},
   "outputs": [],
   "source": [
    "merge5 = merge3.merge(rol_cleaned, on=[\"Country/Territory\", \"Year\"])"
   ]
  },
  {
   "cell_type": "code",
   "execution_count": 79,
   "id": "2b4ecd2b",
   "metadata": {},
   "outputs": [],
   "source": [
    "# merge5.to_csv('world_gov_indicators.csv')"
   ]
  }
 ],
 "metadata": {
  "kernelspec": {
   "display_name": "Python 3 (ipykernel)",
   "language": "python",
   "name": "python3"
  },
  "language_info": {
   "codemirror_mode": {
    "name": "ipython",
    "version": 3
   },
   "file_extension": ".py",
   "mimetype": "text/x-python",
   "name": "python",
   "nbconvert_exporter": "python",
   "pygments_lexer": "ipython3",
   "version": "3.9.13"
  }
 },
 "nbformat": 4,
 "nbformat_minor": 5
}
